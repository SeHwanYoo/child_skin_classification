{
 "cells": [
  {
   "cell_type": "code",
   "execution_count": 10,
   "metadata": {},
   "outputs": [],
   "source": [
    "import os\n",
    "from glob import glob\n",
    "import shutil"
   ]
  },
  {
   "cell_type": "code",
   "execution_count": 3,
   "metadata": {},
   "outputs": [],
   "source": [
    "base_path1 = 'E:/datasets/Child Skin Disease/Total_Dataset'\n",
    "base_path2 = 'E:/datasets/Child Skin Disease/Total_Dataset2'"
   ]
  },
  {
   "cell_type": "code",
   "execution_count": 15,
   "metadata": {},
   "outputs": [],
   "source": [
    "name_dict = {\n",
    "    'acnescarintegrated' : ['Acne scar', 'acnescar'], # add \n",
    "    'depressedscar' : ['Acne scar', 'acnescar'], \n",
    "    'acquiredtuftedhemangioma' : ['Acquired tufted angioma', 'acquiredtuftedangioma'], \n",
    "    'acquiredtuftedhamangioma' : ['Acquired tufted angioma','acquiredtuftedangioma'], # add a and e\n",
    "    'cyst' : ['Epidermal cyst', 'epidermalcyst'], \n",
    "    'cystintegrated' : ['Epidermal cyst', 'epidermalcyst'], # add\n",
    "    'infantilehemangioma' : ['Hemangioma', 'hemangioma'],\n",
    "    'hemangiomaintegrated' : ['Hemangioma', 'hemangioma'],\n",
    "    'ilven': ['Inflammatory linear verrucous epidermal nevus', 'inflammatorylinearverrucousepidermalnevus']\n",
    "}"
   ]
  },
  {
   "cell_type": "code",
   "execution_count": 16,
   "metadata": {},
   "outputs": [],
   "source": [
    "train_list = [0, 1, 2, 3, 4, 5, 6, 9]\n",
    "test_list = [7, 8]"
   ]
  },
  {
   "cell_type": "code",
   "execution_count": 19,
   "metadata": {},
   "outputs": [],
   "source": [
    "for t in train_list:\n",
    "    folder_list = os.listdir(os.path.join(base_path1, f'H{t}'))\n",
    "    \n",
    "    for f in folder_list:\n",
    "        # print(f)\n",
    "        \n",
    "        img_list = glob(os.path.join(base_path1, f'H{t}', f, '*.jpg'))\n",
    "        f_name = f.lower().replace(' ', '')\n",
    "        \n",
    "        if f_name in name_dict: \n",
    "            f_name = name_dict[f_name][0]\n",
    "        else:\n",
    "            f_name = f\n",
    "            \n",
    "        # print(f)\n",
    "            \n",
    "        for img in img_list:\n",
    "            # source = os.path.join(base_path1, f'H{t}', f)\n",
    "            # print(f'Source : {img}')\n",
    "            # print(f'Target : {f_name}')\n",
    "            # print('-----------------------')\n",
    "            \n",
    "            target = os.path.join(base_path2, 'Train', f_name)\n",
    "\n",
    "            if not os.path.exists(target):\n",
    "                os.mkdir(target)\n",
    "                \n",
    "            shutil.copy(img, os.path.join(target, img.split('\\\\')[-1]))\n",
    "        "
   ]
  },
  {
   "cell_type": "code",
   "execution_count": null,
   "metadata": {},
   "outputs": [],
   "source": [
    "for t in test_list:\n",
    "    folder_list = os.listdir(os.path.join(base_path1, f'H{t}'))\n",
    "    \n",
    "    for f in folder_list:\n",
    "        # print(f)\n",
    "        \n",
    "        img_list = glob(os.path.join(base_path1, f'H{t}', f, '*.jpg'))\n",
    "        f_name = f.lower().replace(' ', '')\n",
    "        \n",
    "        if f_name in name_dict: \n",
    "            f_name = name_dict[f_name][0]\n",
    "        else:\n",
    "            f_name = f\n",
    "            \n",
    "        # print(f)\n",
    "            \n",
    "        for img in img_list:\n",
    "            # source = os.path.join(base_path1, f'H{t}', f)\n",
    "            # print(f'Source : {img}')\n",
    "            # print(f'Target : {f_name}')\n",
    "            # print('-----------------------')\n",
    "            \n",
    "            target = os.path.join(base_path2, 'Test', f_name)\n",
    "\n",
    "            if not os.path.exists(target):\n",
    "                os.mkdir(target)\n",
    "                \n",
    "            shutil.copy(img, os.path.join(target, img.split('\\\\')[-1]))"
   ]
  }
 ],
 "metadata": {
  "kernelspec": {
   "display_name": "Python 3.9.6 64-bit",
   "language": "python",
   "name": "python3"
  },
  "language_info": {
   "codemirror_mode": {
    "name": "ipython",
    "version": 3
   },
   "file_extension": ".py",
   "mimetype": "text/x-python",
   "name": "python",
   "nbconvert_exporter": "python",
   "pygments_lexer": "ipython3",
   "version": "3.9.6"
  },
  "orig_nbformat": 4,
  "vscode": {
   "interpreter": {
    "hash": "972d6013027de88475209f8403b8f25f5a20015c64576ec1e3cc2c58ecf8fcfb"
   }
  }
 },
 "nbformat": 4,
 "nbformat_minor": 2
}
