{
 "cells": [
  {
   "cell_type": "code",
   "execution_count": 1,
   "metadata": {},
   "outputs": [],
   "source": [
    "import pandas as pd \n",
    "import tensorflow as tf\n",
    "import tensorflow_addons as tfa \n",
    "import os\n",
    "from glob import glob \n",
    "import cv2\n",
    "import random\n",
    "from tensorflow import keras\n",
    "import numpy as np"
   ]
  },
  {
   "cell_type": "code",
   "execution_count": 2,
   "metadata": {},
   "outputs": [],
   "source": [
    "base_models_path = 'C:/Users/user/Desktop/models/child_skin_classification'\n",
    "PATH = 'C:/Users/user/Desktop/datasets/Child Skin Disease'\n",
    "# PATH = '../../datasets/Child Skin Disease'\n",
    "dataset = os.path.join(PATH, 'Total_Dataset')\n",
    "N_RES = 256"
   ]
  },
  {
   "cell_type": "code",
   "execution_count": 3,
   "metadata": {},
   "outputs": [
    {
     "data": {
      "text/html": [
       "<div>\n",
       "<style scoped>\n",
       "    .dataframe tbody tr th:only-of-type {\n",
       "        vertical-align: middle;\n",
       "    }\n",
       "\n",
       "    .dataframe tbody tr th {\n",
       "        vertical-align: top;\n",
       "    }\n",
       "\n",
       "    .dataframe thead th {\n",
       "        text-align: right;\n",
       "    }\n",
       "</style>\n",
       "<table border=\"1\" class=\"dataframe\">\n",
       "  <thead>\n",
       "    <tr style=\"text-align: right;\">\n",
       "      <th></th>\n",
       "      <th>Unnamed: 0</th>\n",
       "      <th>loss</th>\n",
       "      <th>accuracy</th>\n",
       "      <th>val_loss</th>\n",
       "      <th>val_accuracy</th>\n",
       "    </tr>\n",
       "  </thead>\n",
       "  <tbody>\n",
       "    <tr>\n",
       "      <th>0</th>\n",
       "      <td>0</td>\n",
       "      <td>1.786165</td>\n",
       "      <td>0.545202</td>\n",
       "      <td>0.940404</td>\n",
       "      <td>0.725697</td>\n",
       "    </tr>\n",
       "    <tr>\n",
       "      <th>1</th>\n",
       "      <td>1</td>\n",
       "      <td>0.714923</td>\n",
       "      <td>0.792264</td>\n",
       "      <td>0.804938</td>\n",
       "      <td>0.767781</td>\n",
       "    </tr>\n",
       "    <tr>\n",
       "      <th>2</th>\n",
       "      <td>2</td>\n",
       "      <td>0.356835</td>\n",
       "      <td>0.895827</td>\n",
       "      <td>0.800293</td>\n",
       "      <td>0.778730</td>\n",
       "    </tr>\n",
       "    <tr>\n",
       "      <th>3</th>\n",
       "      <td>3</td>\n",
       "      <td>0.186692</td>\n",
       "      <td>0.944276</td>\n",
       "      <td>0.891261</td>\n",
       "      <td>0.782348</td>\n",
       "    </tr>\n",
       "    <tr>\n",
       "      <th>4</th>\n",
       "      <td>4</td>\n",
       "      <td>0.123328</td>\n",
       "      <td>0.964023</td>\n",
       "      <td>0.913733</td>\n",
       "      <td>0.784347</td>\n",
       "    </tr>\n",
       "    <tr>\n",
       "      <th>5</th>\n",
       "      <td>5</td>\n",
       "      <td>0.093925</td>\n",
       "      <td>0.971148</td>\n",
       "      <td>0.962445</td>\n",
       "      <td>0.784062</td>\n",
       "    </tr>\n",
       "    <tr>\n",
       "      <th>6</th>\n",
       "      <td>6</td>\n",
       "      <td>0.080054</td>\n",
       "      <td>0.974919</td>\n",
       "      <td>1.005566</td>\n",
       "      <td>0.780253</td>\n",
       "    </tr>\n",
       "  </tbody>\n",
       "</table>\n",
       "</div>"
      ],
      "text/plain": [
       "   Unnamed: 0      loss  accuracy  val_loss  val_accuracy\n",
       "0           0  1.786165  0.545202  0.940404      0.725697\n",
       "1           1  0.714923  0.792264  0.804938      0.767781\n",
       "2           2  0.356835  0.895827  0.800293      0.778730\n",
       "3           3  0.186692  0.944276  0.891261      0.782348\n",
       "4           4  0.123328  0.964023  0.913733      0.784347\n",
       "5           5  0.093925  0.971148  0.962445      0.784062\n",
       "6           6  0.080054  0.974919  1.005566      0.780253"
      ]
     },
     "execution_count": 3,
     "metadata": {},
     "output_type": "execute_result"
    }
   ],
   "source": [
    "df = pd.read_csv(os.path.join(base_models_path, '20220701-213305_efficientb4_effection_history.csv'))\n",
    "df "
   ]
  },
  {
   "cell_type": "code",
   "execution_count": 4,
   "metadata": {},
   "outputs": [],
   "source": [
    "# PATH = 'C:/Users/user/Desktop/Child Skin Disease'\n",
    "\n",
    "# Train & test set\n",
    "min_num = 100\n",
    "max_num = 3000 \n",
    "base_num = 1000 # baseline of data augmentation\n",
    "\n",
    "train_dict = {}\n",
    "test_dict = {} \n",
    "\n",
    "for i in range(6):\n",
    "    files = os.listdir(os.path.join(dataset, f'H{i}'))\n",
    "    \n",
    "    for f in files: \n",
    "        imgs = glob(os.path.join(dataset, f'H{i}', f) + '/*.jpg')\n",
    "        \n",
    "        if len(imgs) > min_num and len(imgs) <= max_num: \n",
    "            \n",
    "            if f in train_dict:\n",
    "                train_dict[f] = train_dict[f] + len(imgs)\n",
    "            else:\n",
    "                train_dict[f] = len(imgs)\n",
    "            \n",
    "for i in range(7, 10): \n",
    "    files = [val for val in list(train_dict.keys())]\n",
    "    \n",
    "    for f in files:\n",
    "        imgs = glob(os.path.join(dataset, f'H{i}', f) + '/*.jpg')\n",
    "        \n",
    "        if f in test_dict:\n",
    "            test_dict[f] = test_dict[f] + len(imgs) \n",
    "        else:\n",
    "            test_dict[f] = len(imgs) \n",
    "\n",
    "N_CLASSES = len(train_dict)"
   ]
  },
  {
   "cell_type": "code",
   "execution_count": 5,
   "metadata": {},
   "outputs": [
    {
     "data": {
      "text/plain": [
       "78"
      ]
     },
     "execution_count": 5,
     "metadata": {},
     "output_type": "execute_result"
    }
   ],
   "source": [
    "N_CLASSES"
   ]
  },
  {
   "cell_type": "code",
   "execution_count": 7,
   "metadata": {},
   "outputs": [
    {
     "data": {
      "image/png": "[encoded data removed]",
      "text/plain": [
       "<Figure size 432x288 with 1 Axes>"
      ]
     },
     "metadata": {
      "needs_background": "light"
     },
     "output_type": "display_data"
    }
   ],
   "source": [
    "import matplotlib.pyplot as plt \n",
    "\n",
    "plt.plot(df['loss'], label='loss')\n",
    "plt.plot(df['accuracy'], label='accuracy')\n",
    "plt.plot(df['val_loss'], '--', label='val_loss')\n",
    "plt.plot(df['val_accuracy'], '--', label='val_accuracy')\n",
    "plt.xlabel('Epoch')\n",
    "plt.legend() \n",
    "plt.show()"
   ]
  },
  {
   "cell_type": "code",
   "execution_count": 8,
   "metadata": {},
   "outputs": [],
   "source": [
    "label_to_index = {}\n",
    "for idx, key in zip(range(len(train_dict)), train_dict.keys()):\n",
    "    label_to_index[key] = idx"
   ]
  },
  {
   "cell_type": "code",
   "execution_count": 9,
   "metadata": {},
   "outputs": [],
   "source": [
    "def test_skin_data(files):\n",
    "    \n",
    "    for file in files:\n",
    "    \n",
    "        f = file.decode('utf-8')\n",
    "        \n",
    "        img = cv2.imread(f, cv2.COLOR_BGR2RGB)\n",
    "        img = cv2.resize(img, (N_RES, N_RES))\n",
    "        img = cv2.normalize(img, None, 0, 255, cv2.NORM_MINMAX)\n",
    "        \n",
    "        # lbl = tf.keras.utils.to_categorical(label_to_index[f.split('\\\\')[1].split('/')[2]], len(train_dict))\n",
    "        idx = f.split('\\\\')[2]\n",
    "        \n",
    "        # key = 0 \n",
    "        # if idx in effection:\n",
    "        #     key = 1 \n",
    "            \n",
    "        lbl = tf.keras.utils.to_categorical(label_to_index[key], N_CLASSES)\n",
    "\n",
    "        yield (img, lbl)    "
   ]
  },
  {
   "cell_type": "code",
   "execution_count": 10,
   "metadata": {},
   "outputs": [],
   "source": [
    "imgs = [] \n",
    "for i in range(7, 9):\n",
    "    # for key in train_dict.keys():\n",
    "    img = glob(dataset + f'/H{str(i)}/*/*.jpg')\n",
    "    imgs.extend(img) "
   ]
  },
  {
   "cell_type": "code",
   "execution_count": 12,
   "metadata": {},
   "outputs": [],
   "source": [
    "N_BEF_RES = 256\n",
    "\n",
    "# def test_skin_data(files):\n",
    "\n",
    "test_images = [] \n",
    "test_labels = [] \n",
    "\n",
    "for f in imgs:\n",
    "\n",
    "    # f = file.decode('utf-8')\n",
    "    \n",
    "    img = cv2.imread(f, cv2.COLOR_BGR2RGB)\n",
    "    img = cv2.resize(img, (N_BEF_RES, N_BEF_RES))\n",
    "    img = cv2.normalize(img, None, 0, 255, cv2.NORM_MINMAX)\n",
    "    \n",
    "    # print(f)\n",
    "    idx = f.split('\\\\')[-2]\n",
    "    # print(idx) \n",
    "    \n",
    "    # key = 0 \n",
    "    # if idx in effection:\n",
    "    #     key = 1 \n",
    "         \n",
    "    # lbl = tf.keras.utils.to_categorical(key, 2)\n",
    "    lbl = tf.keras.utils.to_categorical(label_to_index[key], N_CLASSES)\n",
    "    \n",
    "    test_images.append(img)\n",
    "    test_labels.append(lbl) \n",
    "    \n",
    "test_images = np.reshape(test_images, [-1, N_BEF_RES, N_BEF_RES, 3])\n",
    "test_labels = np.reshape(test_labels, [-1, N_CLASSES])"
   ]
  },
  {
   "cell_type": "code",
   "execution_count": 13,
   "metadata": {},
   "outputs": [],
   "source": [
    "# model = keras.models.load_model(os.path.join(base_models_path, '20220701-213304_efficientb4_infection.h5'), custom_objects={'focal_loss_fixed' : tfa.losses.SigmoidFocalCrossEntropy()})\n",
    "\n",
    "\n",
    "model = keras.models.load_model(os.path.join(base_models_path, '20220701-213304_efficientb4_infection.h5'))"
   ]
  },
  {
   "cell_type": "code",
   "execution_count": 14,
   "metadata": {},
   "outputs": [
    {
     "ename": "",
     "evalue": "",
     "output_type": "error",
     "traceback": [
      "\u001b[1;31mCanceled future for execute_request message before replies were done"
     ]
    },
    {
     "ename": "",
     "evalue": "",
     "output_type": "error",
     "traceback": [
      "\u001b[1;31mThe Kernel crashed while executing code in the the current cell or a previous cell. Please review the code in the cell(s) to identify a possible cause of the failure. Click <a href='https://aka.ms/vscodeJupyterKernelCrash'>here</a> for more info. View Jupyter <a href='command:jupyter.viewOutput'>log</a> for further details."
     ]
    }
   ],
   "source": [
    "test_preds = model.predict(test_images)"
   ]
  },
  {
   "cell_type": "code",
   "execution_count": null,
   "metadata": {},
   "outputs": [
    {
     "data": {
      "text/plain": [
       "array([[1.3506900e-05, 1.1716162e-06, 4.5620367e-05, ..., 3.9077085e-04,\n",
       "        2.4111765e-05, 7.2151804e-01],\n",
       "       [8.3295623e-07, 4.7514670e-05, 2.0689045e-05, ..., 1.0653094e-04,\n",
       "        5.3129452e-06, 5.3643197e-01],\n",
       "       [3.3114361e-06, 2.2497770e-04, 4.2861320e-05, ..., 9.7511038e-05,\n",
       "        2.2911487e-05, 2.8393385e-01],\n",
       "       ...,\n",
       "       [1.5185856e-04, 1.1013608e-04, 4.0728286e-05, ..., 6.6110743e-03,\n",
       "        9.7734971e-07, 4.7162724e-01],\n",
       "       [1.7390137e-04, 2.7538519e-05, 4.0452411e-05, ..., 2.0855583e-02,\n",
       "        3.6823681e-06, 1.9993262e-02],\n",
       "       [3.8974002e-05, 4.2080997e-06, 2.3866298e-06, ..., 2.1034654e-04,\n",
       "        2.3565199e-06, 8.1364483e-01]], dtype=float32)"
      ]
     },
     "execution_count": 36,
     "metadata": {},
     "output_type": "execute_result"
    }
   ],
   "source": [
    "test_preds"
   ]
  },
  {
   "cell_type": "code",
   "execution_count": null,
   "metadata": {},
   "outputs": [],
   "source": [
    "import sklearn \n",
    "from sklearn.metrics import roc_curve\n",
    "from sklearn.metrics import auc \n",
    "import seaborn as sns\n",
    "\n",
    "# sklearn.metrics.f1_score(test_labels[:100], y_pred, average='binary')\n",
    "cm = sklearn.metrics.confusion_matrix(test_labels.argmax(axis=1), test_preds.argmax(axis=1))\n",
    "# cm \n",
    "# f1_score = sklearn.metrics.f1_score(test_labels.argmax(axis=1), test_preds.argmax(axis=1))\n",
    "# precision = sklearn.metrics.precision_score(test_labels.argmax(axis=1), test_preds.argmax(axis=1))\n",
    "# recall = sklearn.metrics.recall_score(test_labels.argmax(axis=1), test_preds.argmax(axis=1))\n"
   ]
  },
  {
   "cell_type": "code",
   "execution_count": null,
   "metadata": {},
   "outputs": [
    {
     "name": "stdout",
     "output_type": "stream",
     "text": [
      "6/6 [==============================] - 3s 134ms/step - loss: 0.7476 - accuracy: 0.4699\n"
     ]
    },
    {
     "data": {
      "text/plain": [
       "[0.7475525140762329, 0.46987950801849365]"
      ]
     },
     "execution_count": 56,
     "metadata": {},
     "output_type": "execute_result"
    }
   ],
   "source": [
    "model.evaluate(test_images, test_labels)"
   ]
  },
  {
   "cell_type": "code",
   "execution_count": 38,
   "metadata": {},
   "outputs": [
    {
     "data": {
      "image/png": "[encoded data removed]",
      "text/plain": [
       "<Figure size 360x360 with 2 Axes>"
      ]
     },
     "metadata": {
      "needs_background": "light"
     },
     "output_type": "display_data"
    }
   ],
   "source": [
    "import seaborn as sns\n",
    "\n",
    "f, ax = plt.subplots(figsize=(5,5))\n",
    "sns.heatmap(cm, annot=True, linewidths=0.5, linecolor='red', fmt='.0f', ax=ax)\n",
    "plt.xlabel('y_pred')\n",
    "plt.ylabel('y_true')\n",
    "\n",
    "plt.show()"
   ]
  },
  {
   "cell_type": "code",
   "execution_count": 48,
   "metadata": {},
   "outputs": [
    {
     "data": {
      "text/plain": [
       "0.46987951807228917"
      ]
     },
     "execution_count": 48,
     "metadata": {},
     "output_type": "execute_result"
    }
   ],
   "source": [
    "f1_score = sklearn.metrics.f1_score(test_labels.argmax(axis=1), test_preds.argmax(axis=1), average='micro')\n",
    "f1_score\n"
   ]
  },
  {
   "cell_type": "code",
   "execution_count": 51,
   "metadata": {},
   "outputs": [
    {
     "data": {
      "text/plain": [
       "(0.46987951807228917, 0.46987951807228917)"
      ]
     },
     "execution_count": 51,
     "metadata": {},
     "output_type": "execute_result"
    }
   ],
   "source": [
    "\n",
    "precision = sklearn.metrics.precision_score(test_labels.argmax(axis=1), test_preds.argmax(axis=1), average='micro')\n",
    "recall = sklearn.metrics.recall_score(test_labels.argmax(axis=1), test_preds.argmax(axis=1), average='micro')\n",
    "\n",
    "precision, recall"
   ]
  }
 ],
 "metadata": {
  "kernelspec": {
   "display_name": "Python 3.9.12 ('base')",
   "language": "python",
   "name": "python3"
  },
  "language_info": {
   "codemirror_mode": {
    "name": "ipython",
    "version": 3
   },
   "file_extension": ".py",
   "mimetype": "text/x-python",
   "name": "python",
   "nbconvert_exporter": "python",
   "pygments_lexer": "ipython3",
   "version": "3.9.12"
  },
  "orig_nbformat": 4,
  "vscode": {
   "interpreter": {
    "hash": "19d1d53a962d236aa061289c2ac16dc8e6d9648c89fe79f459ae9a3493bc67b4"
   }
  }
 },
 "nbformat": 4,
 "nbformat_minor": 2
}
