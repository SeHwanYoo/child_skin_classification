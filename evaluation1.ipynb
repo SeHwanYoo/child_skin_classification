{
 "cells": [
  {
   "cell_type": "code",
   "execution_count": 9,
   "metadata": {},
   "outputs": [],
   "source": [
    "import tensorflow as tf \n",
    "from tensorflow import keras \n",
    "from tensorflow.keras import layers \n",
    "from tensorflow.keras import Model\n",
    "from tensorflow.keras.layers import Input, Conv2D, Activation, MaxPooling2D, Dropout, Flatten\n",
    "\n",
    "import tensorflow_addons as tfa\n",
    "import cv2\n",
    "import os \n",
    "import numpy as np\n",
    "from glob import glob\n",
    "import matplotlib.pyplot as plt\n",
    "import datetime\n",
    "\n",
    "from sklearn.model_selection import KFold, StratifiedKFold\n",
    "from sklearn.metrics import mean_absolute_error\n",
    "import random \n",
    "import math\n",
    "import time\n",
    "import pandas as pd"
   ]
  },
  {
   "cell_type": "code",
   "execution_count": 2,
   "metadata": {},
   "outputs": [],
   "source": [
    "base_models_path = 'C:/Users/user/Desktop/models/child_skin_classification'\n",
    "PATH = 'C:/Users/user/Desktop/datasets/Child Skin Disease'\n",
    "# PATH = '../../datasets/Child Skin Disease'\n",
    "dataset = os.path.join(PATH, 'Total_Dataset')\n",
    "N_RES = 256\n",
    "\n",
    "min_num = 100\n",
    "max_num = 3000 \n",
    "base_num = 1000 \n",
    "\n",
    "name_dict = {\n",
    "    'Depressed scar' : 'Acne scar', \n",
    "    'Acquired tufted hemangioma' : 'Acquired tufted angioma', \n",
    "    'Cyst' : 'Epidermal cyst', \n",
    "    'Infantile hemangioma' : 'Hemangioma',\n",
    "    'ILVEN': 'Inflammatory linear verrucous epidermal nevus'\n",
    "}"
   ]
  },
  {
   "cell_type": "code",
   "execution_count": 3,
   "metadata": {},
   "outputs": [],
   "source": [
    "def label_2_index(lbl, label_dict):\n",
    "    return label_dict[lbl]\n",
    "\n",
    "def index_2_label(idx, label_dict):\n",
    "    key = [keys for keys in label_dict if (label_dict[keys] == idx)]\n",
    "    return key"
   ]
  },
  {
   "cell_type": "code",
   "execution_count": 4,
   "metadata": {},
   "outputs": [],
   "source": [
    "def test_generator(images, labels):\n",
    "    \n",
    "    for img, lbl in zip(images, labels):\n",
    "        \n",
    "        img = img[0].decode('utf-8')\n",
    "        \n",
    "        img = cv2.imread(img, cv2.COLOR_BGR2RGB)\n",
    "        img = cv2.resize(img, (N_RES, N_RES))\n",
    "        img = cv2.normalize(img, None, 0, 255, cv2.NORM_MINMAX)\n",
    "\n",
    "        yield (img, lbl)    "
   ]
  },
  {
   "cell_type": "code",
   "execution_count": 7,
   "metadata": {},
   "outputs": [],
   "source": [
    "def create_test_list(dataset, all_dict):\n",
    "    \n",
    "    images = []\n",
    "    for i in range(7, 9):\n",
    "\n",
    "        for key, val in all_dict.items():\n",
    "            img = glob(dataset + f'/H{str(i)}/{key}/*.jpg')\n",
    "            images.extend(img)\n",
    "\n",
    "        for key, val in name_dict.items():\n",
    "            img = glob(dataset + f'/H{str(i)}/{key}/*.jpg')\n",
    "            images.extend(img)\n",
    "\n",
    "        \n",
    "    # # 전남대 추가\n",
    "    # for key, val in all_dict.items(): \n",
    "    #     img = glob(dataset + '/H9/{key}/*.jpg')\n",
    "    #     images.extend(img) \n",
    "\n",
    "    # for key, val in name_dict.items():\n",
    "    #     img = glob(dataset + f'/H9/{key}/*.jpg')\n",
    "    #     images.extend(img)\n",
    "\n",
    "    # 고른 데이터 분배를 위한 random shuffle\n",
    "    random.shuffle(images)\n",
    "\n",
    "    # max 데이터 처리\n",
    "    # count 를 돌면서 count\n",
    "    # count_all_dict = all_dict.copy() \n",
    "\n",
    "    test_images = []\n",
    "    for idx_imgs, val_imgs in enumerate(images):\n",
    "\n",
    "        # class 통합 관련 내용 변경\n",
    "        classes = val_imgs.split('/')[-1].split('\\\\')[0]\n",
    "        # classes = val_imgs.split('/')[-2]\n",
    "        \n",
    "        test_images.append(val_imgs)\n",
    "        \n",
    "        # if classes in name_dict:\n",
    "        #     if count_all_dict[name_dict[classes]] > 0:\n",
    "        #         count_all_dict[name_dict[classes]] -= 1\n",
    "        #         test_images.append(val_imgs)\n",
    "\n",
    "        #     else:\n",
    "        #         continue\n",
    "\n",
    "        # else:\n",
    "        #     if count_all_dict[classes] > 0:\n",
    "        #         count_all_dict[classes] -= 1\n",
    "        #         test_images.append(val_imgs)\n",
    "        #     else:\n",
    "        #         continue\n",
    "\n",
    "\n",
    "    test_labels = [] \n",
    "    for img in test_images:\n",
    "        lbl = img.split('/')[-1].split('\\\\')[0]\n",
    "        # lbl = img.split('/')[-2]\n",
    "\n",
    "        # 변경/통합 버전으로 label 처리\n",
    "        if lbl in name_dict:\n",
    "            lbl = name_dict[lbl]\n",
    "\n",
    "        lbl = label_2_index(lbl, all_dict)\n",
    "        test_labels.append(lbl)\n",
    "        \n",
    "    test_images = np.reshape(test_images, [-1, 1])\n",
    "    test_labels = np.reshape(test_labels, [-1, 1])\n",
    "    \n",
    "    \n",
    "    return test_images, test_labels"
   ]
  },
  {
   "cell_type": "code",
   "execution_count": 8,
   "metadata": {},
   "outputs": [
    {
     "ename": "NameError",
     "evalue": "name 'test_images' is not defined",
     "output_type": "error",
     "traceback": [
      "\u001b[1;31m---------------------------------------------------------------------------\u001b[0m",
      "\u001b[1;31mNameError\u001b[0m                                 Traceback (most recent call last)",
      "\u001b[1;32mc:\\workspace\\child_skin_classification\\evaluation1.ipynb 셀 6\u001b[0m in \u001b[0;36m<cell line: 6>\u001b[1;34m()\u001b[0m\n\u001b[0;32m      <a href='vscode-notebook-cell:/c%3A/workspace/child_skin_classification/evaluation1.ipynb#ch0000005?line=2'>3</a>\u001b[0m y_test \u001b[39m=\u001b[39m [] \n\u001b[0;32m      <a href='vscode-notebook-cell:/c%3A/workspace/child_skin_classification/evaluation1.ipynb#ch0000005?line=3'>4</a>\u001b[0m N_RES \u001b[39m=\u001b[39m \u001b[39m256\u001b[39m\n\u001b[1;32m----> <a href='vscode-notebook-cell:/c%3A/workspace/child_skin_classification/evaluation1.ipynb#ch0000005?line=5'>6</a>\u001b[0m \u001b[39mfor\u001b[39;00m img, lbl \u001b[39min\u001b[39;00m \u001b[39mzip\u001b[39m(test_images, test_labels): \n\u001b[0;32m      <a href='vscode-notebook-cell:/c%3A/workspace/child_skin_classification/evaluation1.ipynb#ch0000005?line=6'>7</a>\u001b[0m     \u001b[39m# print(img[0])\u001b[39;00m\n\u001b[0;32m      <a href='vscode-notebook-cell:/c%3A/workspace/child_skin_classification/evaluation1.ipynb#ch0000005?line=8'>9</a>\u001b[0m     img \u001b[39m=\u001b[39m cv2\u001b[39m.\u001b[39mimread(img[\u001b[39m0\u001b[39m], cv2\u001b[39m.\u001b[39mCOLOR_BGR2RGB)\n\u001b[0;32m     <a href='vscode-notebook-cell:/c%3A/workspace/child_skin_classification/evaluation1.ipynb#ch0000005?line=9'>10</a>\u001b[0m     img \u001b[39m=\u001b[39m cv2\u001b[39m.\u001b[39mresize(img, (N_RES, N_RES))\n",
      "\u001b[1;31mNameError\u001b[0m: name 'test_images' is not defined"
     ]
    }
   ],
   "source": [
    "# test_images, test_labels\n",
    "x_test = [] \n",
    "y_test = [] \n",
    "N_RES = 256\n",
    "\n",
    "for img, lbl in zip(test_images, test_labels): \n",
    "    # print(img[0])\n",
    "    \n",
    "    img = cv2.imread(img[0], cv2.COLOR_BGR2RGB)\n",
    "    img = cv2.resize(img, (N_RES, N_RES))\n",
    "    img = cv2.normalize(img, None, 0, 255, cv2.NORM_MINMAX)\n",
    "    \n",
    "    x_test.append(img) \n",
    "    y_test.append(lbl) \n",
    "    \n",
    "x_test = np.reshape(x_test, [-1, N_RES, N_RES, 3])\n",
    "y_test = np.reshape(y_test, [-1, 1])\n",
    "\n",
    "x_test.shape, y_test.shape"
   ]
  },
  {
   "cell_type": "code",
   "execution_count": 29,
   "metadata": {},
   "outputs": [],
   "source": [
    "def create_dataset(images, labels, d_type='train', aug=False):\n",
    "    \n",
    "    if d_type == 'test':\n",
    "        return tf.data.Dataset.from_generator(test_generator, \n",
    "                                              output_types=(tf.float64, tf.float32), \n",
    "                                              output_shapes=(tf.TensorShape([N_RES, N_RES, 3]), tf.TensorShape([1])),\n",
    "                                              args=[images, labels])\n",
    "        \n",
    "    else:\n",
    "        pass\n",
    "        # return tf.data.Dataset.from_generator(train_generator, \n",
    "        #                                       output_types=(tf.float64, tf.float32), \n",
    "        #                                       output_shapes=(tf.TensorShape([N_RES, N_RES, 3]), tf.TensorShape([1])),\n",
    "        #                                       args=[images, labels, aug])"
   ]
  },
  {
   "cell_type": "code",
   "execution_count": 7,
   "metadata": {},
   "outputs": [],
   "source": [
    "def create_all_dict(dataset, min_num, max_num):\n",
    "    all_dict = dict() \n",
    "    count_all_dict = dict() \n",
    "\n",
    "    for i in range(10):\n",
    "        files = os.listdir(os.path.join(dataset, f'H{i}'))\n",
    "        \n",
    "        for f in files:\n",
    "            # imgs = glob(os.path.join(dataset, f'H{i}', f) + '/*.jpg')\n",
    "            imgs = glob(f'{dataset}/H{i}/{f}/*.jpg')\n",
    "            \n",
    "            # print(f)\n",
    "\n",
    "            # class 통합 관련 내용 변경\n",
    "            if f in name_dict: \n",
    "                f = name_dict[f]\n",
    "            \n",
    "            if f not in count_all_dict:\n",
    "                count_all_dict[f] = len(imgs) \n",
    "            else:\n",
    "                count_all_dict[f] += len(imgs)\n",
    "\n",
    "    new_count_dict = count_all_dict.copy()\n",
    "\n",
    "    # print(new_count_dict)\n",
    "\n",
    "    # 데이터 정제\n",
    "    for key, val in count_all_dict.items():\n",
    "        if val < min_num:\n",
    "            del new_count_dict[key]\n",
    "\n",
    "        if val > max_num:\n",
    "            new_count_dict[key] = max_num\n",
    "            \n",
    "\n",
    "    idx_num = 0 \n",
    "    for idx, key in new_count_dict.items():\n",
    "        # print(idx)\n",
    "        all_dict[idx] = idx_num \n",
    "        idx_num += 1 \n",
    "        \n",
    "        \n",
    "    return all_dict, count_all_dict"
   ]
  },
  {
   "cell_type": "code",
   "execution_count": 8,
   "metadata": {},
   "outputs": [],
   "source": [
    "all_dict, count_all_dict = create_all_dict(dataset, min_num, max_num) \n",
    "N_CLASSES = len(all_dict)\n",
    "\n",
    "# all_dict, count_all_dict"
   ]
  },
  {
   "cell_type": "code",
   "execution_count": 9,
   "metadata": {},
   "outputs": [
    {
     "data": {
      "text/plain": [
       "array([['C:/Users/user/Desktop/datasets/Child Skin Disease\\\\Total_Dataset/H7/Skin tag\\\\H7_1199_P2_L0.jpg'],\n",
       "       ['C:/Users/user/Desktop/datasets/Child Skin Disease\\\\Total_Dataset/H7/Alopecia areata\\\\H7_4194_P7_L1.jpg'],\n",
       "       ['C:/Users/user/Desktop/datasets/Child Skin Disease\\\\Total_Dataset/H8/Normal\\\\H8_996_P12_L0.jpg'],\n",
       "       ...,\n",
       "       ['C:/Users/user/Desktop/datasets/Child Skin Disease\\\\Total_Dataset/H7/Purpura\\\\H7_6028_P2_L2.jpg'],\n",
       "       ['C:/Users/user/Desktop/datasets/Child Skin Disease\\\\Total_Dataset/H7/Erythema dyschromicum perstans\\\\H7_5529_P40_L1.jpg'],\n",
       "       ['C:/Users/user/Desktop/datasets/Child Skin Disease\\\\Total_Dataset/H7/Toxic epidermal necrolysis\\\\H7_6109_P13_L5.jpg']],\n",
       "      dtype='<U134')"
      ]
     },
     "execution_count": 9,
     "metadata": {},
     "output_type": "execute_result"
    }
   ],
   "source": [
    "# train_dataset = create_dataset(train_images[valid_idx], train_labels[valid_idx]) \n",
    "test_images, test_labels = create_test_list(dataset, all_dict)\n",
    "\n",
    "test_images"
   ]
  },
  {
   "cell_type": "code",
   "execution_count": 33,
   "metadata": {},
   "outputs": [
    {
     "name": "stderr",
     "output_type": "stream",
     "text": [
      "c:\\ProgramData\\Miniconda3\\lib\\site-packages\\tensorflow\\python\\data\\ops\\structured_function.py:264: UserWarning: Even though the `tf.config.experimental_run_functions_eagerly` option is set, this option does not apply to tf.data functions. To force eager execution of tf.data functions, please use `tf.data.experimental.enable_debug_mode()`.\n",
      "  warnings.warn(\n"
     ]
    },
    {
     "data": {
      "text/plain": [
       "<FlatMapDataset element_spec=(TensorSpec(shape=(256, 256, 3), dtype=tf.float64, name=None), TensorSpec(shape=(1,), dtype=tf.float32, name=None))>"
      ]
     },
     "execution_count": 33,
     "metadata": {},
     "output_type": "execute_result"
    }
   ],
   "source": [
    "test_dataset = create_dataset(test_images, test_labels, d_type='test') \n",
    "test_dataset"
   ]
  },
  {
   "cell_type": "code",
   "execution_count": 19,
   "metadata": {},
   "outputs": [],
   "source": [
    "# model = keras.models.load_model(os.path.join(base_models_path, 'checkpoint_efficient_mc-False_bs-16_20220711-100710.h5'))\n",
    "res = 256 \n",
    "\n",
    "def create_model():\n",
    "    base_model = keras.applications.EfficientNetB7(include_top=False, input_shape=(res, res, 3),  weights = 'imagenet')\n",
    "    base_model.trainable = True\n",
    "    \n",
    "    inputs = keras.Input(shape=(res, res, 3))\n",
    "    x = base_model(inputs)\n",
    "    x = keras.layers.GlobalAveragePooling2D()(x) \n",
    "    # x = get_dropout(x, mc)\n",
    "    x = Dropout(0.3, name='top_dropout')(x, training=False)\n",
    "    x = keras.layers.Dense(N_CLASSES, activation='softmax')(x)\n",
    "    model = tf.keras.Model(inputs=inputs, outputs=x)\n",
    "    \n",
    "    return model"
   ]
  },
  {
   "cell_type": "code",
   "execution_count": 34,
   "metadata": {},
   "outputs": [],
   "source": [
    "test_dataset = test_dataset.batch(16).shuffle(1000)"
   ]
  },
  {
   "cell_type": "code",
   "execution_count": 20,
   "metadata": {},
   "outputs": [],
   "source": [
    "# weght\n",
    "model = create_model()\n",
    "model.compile(loss='sparse_categorical_crossentropy', \n",
    "            #   optimizer = moving_avg_sgd, \n",
    "                optimizer = tf.keras.optimizers.Adam(0.0001), \n",
    "            #   optimizer = tf.keras.optimizers.Adam(lr_schedule), \n",
    "                metrics=['accuracy'])\n",
    "\n",
    "model.load_weights(os.path.join(base_models_path, 'checkpoint_efficient_mc-False_bs-16_20220711-100710.h5'))\n",
    "\n",
    "loss, acc = model.evaluate(test_dataset)"
   ]
  },
  {
   "cell_type": "code",
   "execution_count": 35,
   "metadata": {},
   "outputs": [],
   "source": [
    "model = keras.models.load_model(os.path.join(base_models_path, '20220711-161501_efficientb4_kfold_5_0.h5'))\n"
   ]
  },
  {
   "cell_type": "code",
   "execution_count": 36,
   "metadata": {},
   "outputs": [
    {
     "name": "stdout",
     "output_type": "stream",
     "text": [
      "2588/2588 [==============================] - 636s 206ms/step - loss: 6.8100 - accuracy: 0.2476\n"
     ]
    }
   ],
   "source": [
    "loss, acc = model.evaluate(test_dataset)\n"
   ]
  },
  {
   "cell_type": "code",
   "execution_count": 10,
   "metadata": {},
   "outputs": [
    {
     "data": {
      "text/html": [
       "<div>\n",
       "<style scoped>\n",
       "    .dataframe tbody tr th:only-of-type {\n",
       "        vertical-align: middle;\n",
       "    }\n",
       "\n",
       "    .dataframe tbody tr th {\n",
       "        vertical-align: top;\n",
       "    }\n",
       "\n",
       "    .dataframe thead th {\n",
       "        text-align: right;\n",
       "    }\n",
       "</style>\n",
       "<table border=\"1\" class=\"dataframe\">\n",
       "  <thead>\n",
       "    <tr style=\"text-align: right;\">\n",
       "      <th></th>\n",
       "      <th>Unnamed: 0</th>\n",
       "      <th>loss</th>\n",
       "      <th>accuracy</th>\n",
       "      <th>val_loss</th>\n",
       "      <th>val_accuracy</th>\n",
       "    </tr>\n",
       "  </thead>\n",
       "  <tbody>\n",
       "    <tr>\n",
       "      <th>0</th>\n",
       "      <td>0</td>\n",
       "      <td>2.800492</td>\n",
       "      <td>0.348897</td>\n",
       "      <td>2.224504</td>\n",
       "      <td>0.442831</td>\n",
       "    </tr>\n",
       "    <tr>\n",
       "      <th>1</th>\n",
       "      <td>1</td>\n",
       "      <td>2.022683</td>\n",
       "      <td>0.476115</td>\n",
       "      <td>2.092239</td>\n",
       "      <td>0.477390</td>\n",
       "    </tr>\n",
       "    <tr>\n",
       "      <th>2</th>\n",
       "      <td>2</td>\n",
       "      <td>1.766162</td>\n",
       "      <td>0.529195</td>\n",
       "      <td>2.038153</td>\n",
       "      <td>0.490993</td>\n",
       "    </tr>\n",
       "    <tr>\n",
       "      <th>3</th>\n",
       "      <td>3</td>\n",
       "      <td>1.601237</td>\n",
       "      <td>0.564514</td>\n",
       "      <td>2.039959</td>\n",
       "      <td>0.494118</td>\n",
       "    </tr>\n",
       "    <tr>\n",
       "      <th>4</th>\n",
       "      <td>4</td>\n",
       "      <td>1.490323</td>\n",
       "      <td>0.587585</td>\n",
       "      <td>1.995551</td>\n",
       "      <td>0.504963</td>\n",
       "    </tr>\n",
       "    <tr>\n",
       "      <th>5</th>\n",
       "      <td>5</td>\n",
       "      <td>1.410761</td>\n",
       "      <td>0.606913</td>\n",
       "      <td>2.047223</td>\n",
       "      <td>0.501471</td>\n",
       "    </tr>\n",
       "    <tr>\n",
       "      <th>6</th>\n",
       "      <td>6</td>\n",
       "      <td>1.333376</td>\n",
       "      <td>0.623759</td>\n",
       "      <td>2.030916</td>\n",
       "      <td>0.512316</td>\n",
       "    </tr>\n",
       "    <tr>\n",
       "      <th>7</th>\n",
       "      <td>7</td>\n",
       "      <td>1.274893</td>\n",
       "      <td>0.637146</td>\n",
       "      <td>2.056993</td>\n",
       "      <td>0.506801</td>\n",
       "    </tr>\n",
       "    <tr>\n",
       "      <th>8</th>\n",
       "      <td>8</td>\n",
       "      <td>1.230281</td>\n",
       "      <td>0.647441</td>\n",
       "      <td>2.090637</td>\n",
       "      <td>0.506801</td>\n",
       "    </tr>\n",
       "  </tbody>\n",
       "</table>\n",
       "</div>"
      ],
      "text/plain": [
       "   Unnamed: 0      loss  accuracy  val_loss  val_accuracy\n",
       "0           0  2.800492  0.348897  2.224504      0.442831\n",
       "1           1  2.022683  0.476115  2.092239      0.477390\n",
       "2           2  1.766162  0.529195  2.038153      0.490993\n",
       "3           3  1.601237  0.564514  2.039959      0.494118\n",
       "4           4  1.490323  0.587585  1.995551      0.504963\n",
       "5           5  1.410761  0.606913  2.047223      0.501471\n",
       "6           6  1.333376  0.623759  2.030916      0.512316\n",
       "7           7  1.274893  0.637146  2.056993      0.506801\n",
       "8           8  1.230281  0.647441  2.090637      0.506801"
      ]
     },
     "execution_count": 10,
     "metadata": {},
     "output_type": "execute_result"
    }
   ],
   "source": [
    "df = pd.read_csv(os.path.join(base_models_path, '20220718-134018_efficientb4_kfold_10_9.csv'))\n",
    "df "
   ]
  },
  {
   "cell_type": "code",
   "execution_count": 11,
   "metadata": {},
   "outputs": [
    {
     "data": {
      "image/png": "[encoded data removed]",
      "text/plain": [
       "<Figure size 432x288 with 1 Axes>"
      ]
     },
     "metadata": {
      "needs_background": "light"
     },
     "output_type": "display_data"
    }
   ],
   "source": [
    "plt.plot(df['loss'], label='loss')\n",
    "plt.plot(df['accuracy'], label='accuracy')\n",
    "plt.plot(df['val_loss'], '--', label='val_loss')\n",
    "plt.plot(df['val_accuracy'], '--', label='val_accuracy')\n",
    "plt.legend(loc=(1.05, 0.02))\n",
    "plt.show()"
   ]
  },
  {
   "cell_type": "code",
   "execution_count": 4,
   "metadata": {},
   "outputs": [],
   "source": [
    "# PATH = 'C:/Users/user/Desktop/Child Skin Disease'\n",
    "\n",
    "# Train & test set\n",
    "min_num = 100\n",
    "max_num = 3000 \n",
    "base_num = 1000 # baseline of data augmentation\n",
    "\n",
    "train_dict = {}\n",
    "test_dict = {} \n",
    "\n",
    "for i in range(6):\n",
    "    files = os.listdir(os.path.join(dataset, f'H{i}'))\n",
    "    \n",
    "    for f in files: \n",
    "        imgs = glob(os.path.join(dataset, f'H{i}', f) + '/*.jpg')\n",
    "        \n",
    "        if len(imgs) > min_num and len(imgs) <= max_num: \n",
    "            \n",
    "            if f in train_dict:\n",
    "                train_dict[f] = train_dict[f] + len(imgs)\n",
    "            else:\n",
    "                train_dict[f] = len(imgs)\n",
    "            \n",
    "for i in range(7, 10): \n",
    "    files = [val for val in list(train_dict.keys())]\n",
    "    \n",
    "    for f in files:\n",
    "        imgs = glob(os.path.join(dataset, f'H{i}', f) + '/*.jpg')\n",
    "        \n",
    "        if f in test_dict:\n",
    "            test_dict[f] = test_dict[f] + len(imgs) \n",
    "        else:\n",
    "            test_dict[f] = len(imgs) \n",
    "\n",
    "N_CLASSES = len(train_dict)"
   ]
  },
  {
   "cell_type": "code",
   "execution_count": 5,
   "metadata": {},
   "outputs": [
    {
     "data": {
      "text/plain": [
       "78"
      ]
     },
     "execution_count": 5,
     "metadata": {},
     "output_type": "execute_result"
    }
   ],
   "source": [
    "N_CLASSES"
   ]
  },
  {
   "cell_type": "code",
   "execution_count": 7,
   "metadata": {},
   "outputs": [
    {
     "data": {
      "image/png": "[encoded data removed]",
      "text/plain": [
       "<Figure size 432x288 with 1 Axes>"
      ]
     },
     "metadata": {
      "needs_background": "light"
     },
     "output_type": "display_data"
    }
   ],
   "source": [
    "import matplotlib.pyplot as plt \n",
    "\n",
    "plt.plot(df['loss'], label='loss')\n",
    "plt.plot(df['accuracy'], label='accuracy')\n",
    "plt.plot(df['val_loss'], '--', label='val_loss')\n",
    "plt.plot(df['val_accuracy'], '--', label='val_accuracy')\n",
    "plt.xlabel('Epoch')\n",
    "plt.legend() \n",
    "plt.show()"
   ]
  },
  {
   "cell_type": "code",
   "execution_count": 8,
   "metadata": {},
   "outputs": [],
   "source": [
    "label_to_index = {}\n",
    "for idx, key in zip(range(len(train_dict)), train_dict.keys()):\n",
    "    label_to_index[key] = idx"
   ]
  },
  {
   "cell_type": "code",
   "execution_count": 9,
   "metadata": {},
   "outputs": [],
   "source": [
    "def test_skin_data(files):\n",
    "    \n",
    "    for file in files:\n",
    "    \n",
    "        f = file.decode('utf-8')\n",
    "        \n",
    "        img = cv2.imread(f, cv2.COLOR_BGR2RGB)\n",
    "        img = cv2.resize(img, (N_RES, N_RES))\n",
    "        img = cv2.normalize(img, None, 0, 255, cv2.NORM_MINMAX)\n",
    "        \n",
    "        # lbl = tf.keras.utils.to_categorical(label_to_index[f.split('\\\\')[1].split('/')[2]], len(train_dict))\n",
    "        idx = f.split('\\\\')[2]\n",
    "        \n",
    "        # key = 0 \n",
    "        # if idx in effection:\n",
    "        #     key = 1 \n",
    "            \n",
    "        lbl = tf.keras.utils.to_categorical(label_to_index[key], N_CLASSES)\n",
    "\n",
    "        yield (img, lbl)    "
   ]
  },
  {
   "cell_type": "code",
   "execution_count": 10,
   "metadata": {},
   "outputs": [],
   "source": [
    "imgs = [] \n",
    "for i in range(7, 9):\n",
    "    # for key in train_dict.keys():\n",
    "    img = glob(dataset + f'/H{str(i)}/*/*.jpg')\n",
    "    imgs.extend(img) "
   ]
  },
  {
   "cell_type": "code",
   "execution_count": 12,
   "metadata": {},
   "outputs": [],
   "source": [
    "N_BEF_RES = 256\n",
    "\n",
    "# def test_skin_data(files):\n",
    "\n",
    "test_images = [] \n",
    "test_labels = [] \n",
    "\n",
    "for f in imgs:\n",
    "\n",
    "    # f = file.decode('utf-8')\n",
    "    \n",
    "    img = cv2.imread(f, cv2.COLOR_BGR2RGB)\n",
    "    img = cv2.resize(img, (N_BEF_RES, N_BEF_RES))\n",
    "    img = cv2.normalize(img, None, 0, 255, cv2.NORM_MINMAX)\n",
    "    \n",
    "    # print(f)\n",
    "    idx = f.split('\\\\')[-2]\n",
    "    # print(idx) \n",
    "    \n",
    "    # key = 0 \n",
    "    # if idx in effection:\n",
    "    #     key = 1 \n",
    "         \n",
    "    # lbl = tf.keras.utils.to_categorical(key, 2)\n",
    "    lbl = tf.keras.utils.to_categorical(label_to_index[key], N_CLASSES)\n",
    "    \n",
    "    test_images.append(img)\n",
    "    test_labels.append(lbl) \n",
    "    \n",
    "test_images = np.reshape(test_images, [-1, N_BEF_RES, N_BEF_RES, 3])\n",
    "test_labels = np.reshape(test_labels, [-1, N_CLASSES])"
   ]
  },
  {
   "cell_type": "code",
   "execution_count": 11,
   "metadata": {},
   "outputs": [],
   "source": [
    "# model = keras.models.load_model(os.path.join(base_models_path, '20220701-213304_efficientb4_infection.h5'), custom_objects={'focal_loss_fixed' : tfa.losses.SigmoidFocalCrossEntropy()})\n",
    "\n",
    "\n",
    "model = keras.models.load_model(os.path.join(base_models_path, '20220701-213304_efficientb4_infection.h5'))"
   ]
  },
  {
   "cell_type": "code",
   "execution_count": 12,
   "metadata": {},
   "outputs": [],
   "source": [
    "y_test_1 = tf.keras.utils.to_categorical(y_test, N_CLASSES)"
   ]
  },
  {
   "cell_type": "code",
   "execution_count": 13,
   "metadata": {},
   "outputs": [],
   "source": [
    "# test_preds = model.predict(test_images)\n",
    "test_preds = model.predict(x_test)\n"
   ]
  },
  {
   "cell_type": "code",
   "execution_count": 14,
   "metadata": {},
   "outputs": [],
   "source": [
    "import sklearn \n",
    "from sklearn.metrics import roc_curve\n",
    "from sklearn.metrics import auc \n",
    "import seaborn as sns\n",
    "\n",
    "\n",
    "# cm = sklearn.metrics.confusion_matrix(test_labels.argmax(axis=1), test_preds.argmax(axis=1))\n",
    "cm = sklearn.metrics.confusion_matrix(y_test_1.argmax(axis=1), test_preds.argmax(axis=1))\n",
    "\n"
   ]
  },
  {
   "cell_type": "code",
   "execution_count": 48,
   "metadata": {},
   "outputs": [
    {
     "name": "stderr",
     "output_type": "stream",
     "text": [
      "c:\\ProgramData\\Miniconda3\\lib\\site-packages\\tensorflow\\python\\data\\ops\\structured_function.py:264: UserWarning: Even though the `tf.config.experimental_run_functions_eagerly` option is set, this option does not apply to tf.data functions. To force eager execution of tf.data functions, please use `tf.data.experimental.enable_debug_mode()`.\n",
      "  warnings.warn(\n"
     ]
    },
    {
     "name": "stdout",
     "output_type": "stream",
     "text": [
      "1294/1294 [==============================] - 270s 208ms/step - loss: 6.8100 - accuracy: 0.2476\n"
     ]
    },
    {
     "data": {
      "text/plain": [
       "[6.810032367706299, 0.24760271608829498]"
      ]
     },
     "execution_count": 48,
     "metadata": {},
     "output_type": "execute_result"
    }
   ],
   "source": [
    "model.evaluate(x_test, y_test)"
   ]
  },
  {
   "cell_type": "code",
   "execution_count": 15,
   "metadata": {},
   "outputs": [
    {
     "data": {
      "image/png": "[encoded data removed]",
      "text/plain": [
       "<Figure size 360x360 with 2 Axes>"
      ]
     },
     "metadata": {
      "needs_background": "light"
     },
     "output_type": "display_data"
    }
   ],
   "source": [
    "import seaborn as sns\n",
    "\n",
    "f, ax = plt.subplots(figsize=(5,5))\n",
    "sns.heatmap(cm, annot=True, linewidths=0.5, linecolor='red', fmt='.0f', ax=ax)\n",
    "plt.xlabel('y_pred')\n",
    "plt.ylabel('y_true')\n",
    "\n",
    "plt.show()"
   ]
  },
  {
   "cell_type": "code",
   "execution_count": 16,
   "metadata": {},
   "outputs": [
    {
     "data": {
      "text/plain": [
       "0.003454022849689621"
      ]
     },
     "execution_count": 16,
     "metadata": {},
     "output_type": "execute_result"
    }
   ],
   "source": [
    "f1_score = sklearn.metrics.f1_score(y_test_1.argmax(axis=1), test_preds.argmax(axis=1), average='micro')\n",
    "f1_score\n"
   ]
  },
  {
   "cell_type": "code",
   "execution_count": 17,
   "metadata": {},
   "outputs": [
    {
     "data": {
      "text/plain": [
       "(0.003454022849689621, 0.003454022849689621)"
      ]
     },
     "execution_count": 17,
     "metadata": {},
     "output_type": "execute_result"
    }
   ],
   "source": [
    "\n",
    "precision = sklearn.metrics.precision_score(y_test_1.argmax(axis=1), test_preds.argmax(axis=1), average='micro')\n",
    "recall = sklearn.metrics.recall_score(y_test_1.argmax(axis=1), test_preds.argmax(axis=1), average='micro')\n",
    "\n",
    "precision, recall"
   ]
  },
  {
   "cell_type": "code",
   "execution_count": null,
   "metadata": {},
   "outputs": [],
   "source": []
  }
 ],
 "metadata": {
  "kernelspec": {
   "display_name": "Python 3.9.12 ('base')",
   "language": "python",
   "name": "python3"
  },
  "language_info": {
   "codemirror_mode": {
    "name": "ipython",
    "version": 3
   },
   "file_extension": ".py",
   "mimetype": "text/x-python",
   "name": "python",
   "nbconvert_exporter": "python",
   "pygments_lexer": "ipython3",
   "version": "3.9.12"
  },
  "orig_nbformat": 4,
  "vscode": {
   "interpreter": {
    "hash": "19d1d53a962d236aa061289c2ac16dc8e6d9648c89fe79f459ae9a3493bc67b4"
   }
  }
 },
 "nbformat": 4,
 "nbformat_minor": 2
}
