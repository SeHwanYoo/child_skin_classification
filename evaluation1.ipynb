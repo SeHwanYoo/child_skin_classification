{
 "cells": [
  {
   "cell_type": "code",
   "execution_count": 29,
   "metadata": {},
   "outputs": [],
   "source": [
    "import pandas as pd \n",
    "import tensorflow as tf\n",
    "import tensorflow_addons as tfa \n",
    "import os\n",
    "from glob import glob \n",
    "import cv2\n",
    "import random\n",
    "from tensorflow import keras\n",
    "import numpy as np"
   ]
  },
  {
   "cell_type": "code",
   "execution_count": 14,
   "metadata": {},
   "outputs": [],
   "source": [
    "base_models_path = 'C:/Users/user/Desktop/models/child_skin_classification'\n",
    "PATH = 'C:/Users/user/Desktop/datasets/Child Skin Disease'\n",
    "# PATH = '../../datasets/Child Skin Disease'\n",
    "dataset = os.path.join(PATH, 'Total_Dataset')\n",
    "N_RES = 256"
   ]
  },
  {
   "cell_type": "code",
   "execution_count": 3,
   "metadata": {},
   "outputs": [
    {
     "data": {
      "text/html": [
       "<div>\n",
       "<style scoped>\n",
       "    .dataframe tbody tr th:only-of-type {\n",
       "        vertical-align: middle;\n",
       "    }\n",
       "\n",
       "    .dataframe tbody tr th {\n",
       "        vertical-align: top;\n",
       "    }\n",
       "\n",
       "    .dataframe thead th {\n",
       "        text-align: right;\n",
       "    }\n",
       "</style>\n",
       "<table border=\"1\" class=\"dataframe\">\n",
       "  <thead>\n",
       "    <tr style=\"text-align: right;\">\n",
       "      <th></th>\n",
       "      <th>Unnamed: 0</th>\n",
       "      <th>loss</th>\n",
       "      <th>accuracy</th>\n",
       "      <th>val_loss</th>\n",
       "      <th>val_accuracy</th>\n",
       "    </tr>\n",
       "  </thead>\n",
       "  <tbody>\n",
       "    <tr>\n",
       "      <th>0</th>\n",
       "      <td>0</td>\n",
       "      <td>0.312188</td>\n",
       "      <td>0.419258</td>\n",
       "      <td>0.350435</td>\n",
       "      <td>0.499572</td>\n",
       "    </tr>\n",
       "    <tr>\n",
       "      <th>1</th>\n",
       "      <td>1</td>\n",
       "      <td>0.177123</td>\n",
       "      <td>0.566368</td>\n",
       "      <td>0.320883</td>\n",
       "      <td>0.539370</td>\n",
       "    </tr>\n",
       "    <tr>\n",
       "      <th>2</th>\n",
       "      <td>2</td>\n",
       "      <td>0.128711</td>\n",
       "      <td>0.629766</td>\n",
       "      <td>0.290868</td>\n",
       "      <td>0.578216</td>\n",
       "    </tr>\n",
       "    <tr>\n",
       "      <th>3</th>\n",
       "      <td>3</td>\n",
       "      <td>0.098536</td>\n",
       "      <td>0.675723</td>\n",
       "      <td>0.282279</td>\n",
       "      <td>0.600590</td>\n",
       "    </tr>\n",
       "    <tr>\n",
       "      <th>4</th>\n",
       "      <td>4</td>\n",
       "      <td>0.083997</td>\n",
       "      <td>0.701123</td>\n",
       "      <td>0.286510</td>\n",
       "      <td>0.597544</td>\n",
       "    </tr>\n",
       "    <tr>\n",
       "      <th>5</th>\n",
       "      <td>5</td>\n",
       "      <td>0.077370</td>\n",
       "      <td>0.715451</td>\n",
       "      <td>0.276807</td>\n",
       "      <td>0.616110</td>\n",
       "    </tr>\n",
       "    <tr>\n",
       "      <th>6</th>\n",
       "      <td>6</td>\n",
       "      <td>0.068426</td>\n",
       "      <td>0.738728</td>\n",
       "      <td>0.266625</td>\n",
       "      <td>0.626107</td>\n",
       "    </tr>\n",
       "    <tr>\n",
       "      <th>7</th>\n",
       "      <td>7</td>\n",
       "      <td>0.065641</td>\n",
       "      <td>0.746724</td>\n",
       "      <td>0.282816</td>\n",
       "      <td>0.619632</td>\n",
       "    </tr>\n",
       "    <tr>\n",
       "      <th>8</th>\n",
       "      <td>8</td>\n",
       "      <td>0.061107</td>\n",
       "      <td>0.756497</td>\n",
       "      <td>0.267933</td>\n",
       "      <td>0.637723</td>\n",
       "    </tr>\n",
       "    <tr>\n",
       "      <th>9</th>\n",
       "      <td>9</td>\n",
       "      <td>0.057339</td>\n",
       "      <td>0.768665</td>\n",
       "      <td>0.275814</td>\n",
       "      <td>0.633057</td>\n",
       "    </tr>\n",
       "    <tr>\n",
       "      <th>10</th>\n",
       "      <td>10</td>\n",
       "      <td>0.053345</td>\n",
       "      <td>0.777718</td>\n",
       "      <td>0.277035</td>\n",
       "      <td>0.638770</td>\n",
       "    </tr>\n",
       "    <tr>\n",
       "      <th>11</th>\n",
       "      <td>11</td>\n",
       "      <td>0.052540</td>\n",
       "      <td>0.782646</td>\n",
       "      <td>0.275803</td>\n",
       "      <td>0.646863</td>\n",
       "    </tr>\n",
       "    <tr>\n",
       "      <th>12</th>\n",
       "      <td>12</td>\n",
       "      <td>0.048233</td>\n",
       "      <td>0.793654</td>\n",
       "      <td>0.261133</td>\n",
       "      <td>0.663049</td>\n",
       "    </tr>\n",
       "    <tr>\n",
       "      <th>13</th>\n",
       "      <td>13</td>\n",
       "      <td>0.045931</td>\n",
       "      <td>0.799920</td>\n",
       "      <td>0.248663</td>\n",
       "      <td>0.682376</td>\n",
       "    </tr>\n",
       "    <tr>\n",
       "      <th>14</th>\n",
       "      <td>14</td>\n",
       "      <td>0.045103</td>\n",
       "      <td>0.803202</td>\n",
       "      <td>0.254961</td>\n",
       "      <td>0.682472</td>\n",
       "    </tr>\n",
       "    <tr>\n",
       "      <th>15</th>\n",
       "      <td>15</td>\n",
       "      <td>0.045064</td>\n",
       "      <td>0.805522</td>\n",
       "      <td>0.243524</td>\n",
       "      <td>0.683900</td>\n",
       "    </tr>\n",
       "    <tr>\n",
       "      <th>16</th>\n",
       "      <td>16</td>\n",
       "      <td>0.045233</td>\n",
       "      <td>0.804334</td>\n",
       "      <td>0.248374</td>\n",
       "      <td>0.671237</td>\n",
       "    </tr>\n",
       "    <tr>\n",
       "      <th>17</th>\n",
       "      <td>17</td>\n",
       "      <td>0.045472</td>\n",
       "      <td>0.803548</td>\n",
       "      <td>0.242358</td>\n",
       "      <td>0.696372</td>\n",
       "    </tr>\n",
       "    <tr>\n",
       "      <th>18</th>\n",
       "      <td>18</td>\n",
       "      <td>0.043744</td>\n",
       "      <td>0.809393</td>\n",
       "      <td>0.249667</td>\n",
       "      <td>0.675521</td>\n",
       "    </tr>\n",
       "    <tr>\n",
       "      <th>19</th>\n",
       "      <td>19</td>\n",
       "      <td>0.044238</td>\n",
       "      <td>0.808458</td>\n",
       "      <td>0.250602</td>\n",
       "      <td>0.693707</td>\n",
       "    </tr>\n",
       "    <tr>\n",
       "      <th>20</th>\n",
       "      <td>20</td>\n",
       "      <td>0.043782</td>\n",
       "      <td>0.811133</td>\n",
       "      <td>0.249586</td>\n",
       "      <td>0.684947</td>\n",
       "    </tr>\n",
       "    <tr>\n",
       "      <th>21</th>\n",
       "      <td>21</td>\n",
       "      <td>0.042988</td>\n",
       "      <td>0.811535</td>\n",
       "      <td>0.246064</td>\n",
       "      <td>0.694944</td>\n",
       "    </tr>\n",
       "  </tbody>\n",
       "</table>\n",
       "</div>"
      ],
      "text/plain": [
       "    Unnamed: 0      loss  accuracy  val_loss  val_accuracy\n",
       "0            0  0.312188  0.419258  0.350435      0.499572\n",
       "1            1  0.177123  0.566368  0.320883      0.539370\n",
       "2            2  0.128711  0.629766  0.290868      0.578216\n",
       "3            3  0.098536  0.675723  0.282279      0.600590\n",
       "4            4  0.083997  0.701123  0.286510      0.597544\n",
       "5            5  0.077370  0.715451  0.276807      0.616110\n",
       "6            6  0.068426  0.738728  0.266625      0.626107\n",
       "7            7  0.065641  0.746724  0.282816      0.619632\n",
       "8            8  0.061107  0.756497  0.267933      0.637723\n",
       "9            9  0.057339  0.768665  0.275814      0.633057\n",
       "10          10  0.053345  0.777718  0.277035      0.638770\n",
       "11          11  0.052540  0.782646  0.275803      0.646863\n",
       "12          12  0.048233  0.793654  0.261133      0.663049\n",
       "13          13  0.045931  0.799920  0.248663      0.682376\n",
       "14          14  0.045103  0.803202  0.254961      0.682472\n",
       "15          15  0.045064  0.805522  0.243524      0.683900\n",
       "16          16  0.045233  0.804334  0.248374      0.671237\n",
       "17          17  0.045472  0.803548  0.242358      0.696372\n",
       "18          18  0.043744  0.809393  0.249667      0.675521\n",
       "19          19  0.044238  0.808458  0.250602      0.693707\n",
       "20          20  0.043782  0.811133  0.249586      0.684947\n",
       "21          21  0.042988  0.811535  0.246064      0.694944"
      ]
     },
     "execution_count": 3,
     "metadata": {},
     "output_type": "execute_result"
    }
   ],
   "source": [
    "df = pd.read_csv(os.path.join(base_models_path, '20220624-110729_efficientb4_effection_history.csv'))\n",
    "df "
   ]
  },
  {
   "cell_type": "code",
   "execution_count": 9,
   "metadata": {},
   "outputs": [],
   "source": [
    "# PATH = 'C:/Users/user/Desktop/Child Skin Disease'\n",
    "\n",
    "# Train & test set\n",
    "min_num = 100\n",
    "max_num = 3000 \n",
    "base_num = 1000 # baseline of data augmentation\n",
    "\n",
    "train_dict = {}\n",
    "test_dict = {} \n",
    "\n",
    "for i in range(6):\n",
    "    files = os.listdir(os.path.join(dataset, f'H{i}'))\n",
    "    \n",
    "    for f in files: \n",
    "        imgs = glob(os.path.join(dataset, f'H{i}', f) + '/*.jpg')\n",
    "        \n",
    "        if len(imgs) > min_num and len(imgs) <= max_num: \n",
    "            \n",
    "            if f in train_dict:\n",
    "                train_dict[f] = train_dict[f] + len(imgs)\n",
    "            else:\n",
    "                train_dict[f] = len(imgs)\n",
    "            \n",
    "for i in range(7, 10): \n",
    "    files = [val for val in list(train_dict.keys())]\n",
    "    \n",
    "    for f in files:\n",
    "        imgs = glob(os.path.join(dataset, f'H{i}', f) + '/*.jpg')\n",
    "        \n",
    "        if f in test_dict:\n",
    "            test_dict[f] = test_dict[f] + len(imgs) \n",
    "        else:\n",
    "            test_dict[f] = len(imgs) \n",
    "\n",
    "N_CLASSES = len(train_dict)"
   ]
  },
  {
   "cell_type": "code",
   "execution_count": 10,
   "metadata": {},
   "outputs": [
    {
     "data": {
      "text/plain": [
       "78"
      ]
     },
     "execution_count": 10,
     "metadata": {},
     "output_type": "execute_result"
    }
   ],
   "source": [
    "N_CLASSES"
   ]
  },
  {
   "cell_type": "code",
   "execution_count": 5,
   "metadata": {},
   "outputs": [
    {
     "data": {
      "image/png": "[encoded data removed]",
      "text/plain": [
       "<Figure size 432x288 with 1 Axes>"
      ]
     },
     "metadata": {
      "needs_background": "light"
     },
     "output_type": "display_data"
    }
   ],
   "source": [
    "import matplotlib.pyplot as plt \n",
    "\n",
    "plt.plot(df['loss'], label='loss')\n",
    "plt.plot(df['accuracy'], label='accuracy')\n",
    "plt.plot(df['val_loss'], '--', label='val_loss')\n",
    "plt.plot(df['val_accuracy'], '--', label='val_accuracy')\n",
    "plt.legend() \n",
    "plt.show()"
   ]
  },
  {
   "cell_type": "code",
   "execution_count": 30,
   "metadata": {},
   "outputs": [],
   "source": [
    "label_to_index = {}\n",
    "for idx, key in zip(range(len(train_dict)), train_dict.keys()):\n",
    "    label_to_index[key] = idx"
   ]
  },
  {
   "cell_type": "code",
   "execution_count": 18,
   "metadata": {},
   "outputs": [],
   "source": [
    "def test_skin_data(files):\n",
    "    \n",
    "    for file in files:\n",
    "    \n",
    "        f = file.decode('utf-8')\n",
    "        \n",
    "        img = cv2.imread(f, cv2.COLOR_BGR2RGB)\n",
    "        img = cv2.resize(img, (N_RES, N_RES))\n",
    "        img = cv2.normalize(img, None, 0, 255, cv2.NORM_MINMAX)\n",
    "        \n",
    "        # lbl = tf.keras.utils.to_categorical(label_to_index[f.split('\\\\')[1].split('/')[2]], len(train_dict))\n",
    "        idx = f.split('\\\\')[2]\n",
    "        \n",
    "        # key = 0 \n",
    "        # if idx in effection:\n",
    "        #     key = 1 \n",
    "            \n",
    "        lbl = tf.keras.utils.to_categorical(label_to_index[key], N_CLASSES)\n",
    "\n",
    "        yield (img, lbl)    "
   ]
  },
  {
   "cell_type": "code",
   "execution_count": 19,
   "metadata": {},
   "outputs": [],
   "source": [
    "imgs = [] \n",
    "for i in range(7, 9):\n",
    "    # for key in train_dict.keys():\n",
    "    img = glob(dataset + f'/H{str(i)}/*/*.jpg')\n",
    "    imgs.extend(img) "
   ]
  },
  {
   "cell_type": "code",
   "execution_count": 32,
   "metadata": {},
   "outputs": [],
   "source": [
    "N_BEF_RES = 256\n",
    "\n",
    "# def test_skin_data(files):\n",
    "\n",
    "test_images = [] \n",
    "test_labels = [] \n",
    "\n",
    "for f in imgs:\n",
    "\n",
    "    # f = file.decode('utf-8')\n",
    "    \n",
    "    img = cv2.imread(f, cv2.COLOR_BGR2RGB)\n",
    "    img = cv2.resize(img, (N_BEF_RES, N_BEF_RES))\n",
    "    img = cv2.normalize(img, None, 0, 255, cv2.NORM_MINMAX)\n",
    "    \n",
    "    # print(f)\n",
    "    idx = f.split('\\\\')[-2]\n",
    "    # print(idx) \n",
    "    \n",
    "    # key = 0 \n",
    "    # if idx in effection:\n",
    "    #     key = 1 \n",
    "         \n",
    "    # lbl = tf.keras.utils.to_categorical(key, 2)\n",
    "    lbl = tf.keras.utils.to_categorical(label_to_index[key], N_CLASSES)\n",
    "    \n",
    "    test_images.append(img)\n",
    "    test_labels.append(lbl) \n",
    "    \n",
    "test_images = np.reshape(test_images, [-1, N_BEF_RES, N_BEF_RES, 3])\n",
    "test_labels = np.reshape(test_labels, [-1, N_CLASSES])"
   ]
  },
  {
   "cell_type": "code",
   "execution_count": 27,
   "metadata": {},
   "outputs": [],
   "source": [
    "model = keras.models.load_model(os.path.join(base_models_path, '20220624-110646_efficientb4_effection.h5'), custom_objects={'focal_loss_fixed' : tfa.losses.SigmoidFocalCrossEntropy()})"
   ]
  },
  {
   "cell_type": "code",
   "execution_count": 33,
   "metadata": {},
   "outputs": [],
   "source": [
    "test_preds = model.predict(test_images)"
   ]
  },
  {
   "cell_type": "code",
   "execution_count": 36,
   "metadata": {},
   "outputs": [
    {
     "data": {
      "text/plain": [
       "array([[1.3506900e-05, 1.1716162e-06, 4.5620367e-05, ..., 3.9077085e-04,\n",
       "        2.4111765e-05, 7.2151804e-01],\n",
       "       [8.3295623e-07, 4.7514670e-05, 2.0689045e-05, ..., 1.0653094e-04,\n",
       "        5.3129452e-06, 5.3643197e-01],\n",
       "       [3.3114361e-06, 2.2497770e-04, 4.2861320e-05, ..., 9.7511038e-05,\n",
       "        2.2911487e-05, 2.8393385e-01],\n",
       "       ...,\n",
       "       [1.5185856e-04, 1.1013608e-04, 4.0728286e-05, ..., 6.6110743e-03,\n",
       "        9.7734971e-07, 4.7162724e-01],\n",
       "       [1.7390137e-04, 2.7538519e-05, 4.0452411e-05, ..., 2.0855583e-02,\n",
       "        3.6823681e-06, 1.9993262e-02],\n",
       "       [3.8974002e-05, 4.2080997e-06, 2.3866298e-06, ..., 2.1034654e-04,\n",
       "        2.3565199e-06, 8.1364483e-01]], dtype=float32)"
      ]
     },
     "execution_count": 36,
     "metadata": {},
     "output_type": "execute_result"
    }
   ],
   "source": [
    "test_preds"
   ]
  },
  {
   "cell_type": "code",
   "execution_count": 37,
   "metadata": {},
   "outputs": [],
   "source": [
    "import sklearn \n",
    "from sklearn.metrics import roc_curve\n",
    "from sklearn.metrics import auc \n",
    "import seaborn as sns\n",
    "\n",
    "# sklearn.metrics.f1_score(test_labels[:100], y_pred, average='binary')\n",
    "cm = sklearn.metrics.confusion_matrix(test_labels.argmax(axis=1), test_preds.argmax(axis=1))\n",
    "# cm \n",
    "# f1_score = sklearn.metrics.f1_score(test_labels.argmax(axis=1), test_preds.argmax(axis=1))\n",
    "# precision = sklearn.metrics.precision_score(test_labels.argmax(axis=1), test_preds.argmax(axis=1))\n",
    "# recall = sklearn.metrics.recall_score(test_labels.argmax(axis=1), test_preds.argmax(axis=1))\n"
   ]
  },
  {
   "cell_type": "code",
   "execution_count": 56,
   "metadata": {},
   "outputs": [
    {
     "name": "stdout",
     "output_type": "stream",
     "text": [
      "6/6 [==============================] - 3s 134ms/step - loss: 0.7476 - accuracy: 0.4699\n"
     ]
    },
    {
     "data": {
      "text/plain": [
       "[0.7475525140762329, 0.46987950801849365]"
      ]
     },
     "execution_count": 56,
     "metadata": {},
     "output_type": "execute_result"
    }
   ],
   "source": [
    "model.evaluate(test_images, test_labels)"
   ]
  },
  {
   "cell_type": "code",
   "execution_count": 38,
   "metadata": {},
   "outputs": [
    {
     "data": {
      "image/png": "[encoded data removed]",
      "text/plain": [
       "<Figure size 360x360 with 2 Axes>"
      ]
     },
     "metadata": {
      "needs_background": "light"
     },
     "output_type": "display_data"
    }
   ],
   "source": [
    "import seaborn as sns\n",
    "\n",
    "f, ax = plt.subplots(figsize=(5,5))\n",
    "sns.heatmap(cm, annot=True, linewidths=0.5, linecolor='red', fmt='.0f', ax=ax)\n",
    "plt.xlabel('y_pred')\n",
    "plt.ylabel('y_true')\n",
    "\n",
    "plt.show()"
   ]
  },
  {
   "cell_type": "code",
   "execution_count": 48,
   "metadata": {},
   "outputs": [
    {
     "data": {
      "text/plain": [
       "0.46987951807228917"
      ]
     },
     "execution_count": 48,
     "metadata": {},
     "output_type": "execute_result"
    }
   ],
   "source": [
    "f1_score = sklearn.metrics.f1_score(test_labels.argmax(axis=1), test_preds.argmax(axis=1), average='micro')\n",
    "f1_score\n"
   ]
  },
  {
   "cell_type": "code",
   "execution_count": 51,
   "metadata": {},
   "outputs": [
    {
     "data": {
      "text/plain": [
       "(0.46987951807228917, 0.46987951807228917)"
      ]
     },
     "execution_count": 51,
     "metadata": {},
     "output_type": "execute_result"
    }
   ],
   "source": [
    "\n",
    "precision = sklearn.metrics.precision_score(test_labels.argmax(axis=1), test_preds.argmax(axis=1), average='micro')\n",
    "recall = sklearn.metrics.recall_score(test_labels.argmax(axis=1), test_preds.argmax(axis=1), average='micro')\n",
    "\n",
    "precision, recall"
   ]
  }
 ],
 "metadata": {
  "kernelspec": {
   "display_name": "Python 3.9.12 ('base')",
   "language": "python",
   "name": "python3"
  },
  "language_info": {
   "codemirror_mode": {
    "name": "ipython",
    "version": 3
   },
   "file_extension": ".py",
   "mimetype": "text/x-python",
   "name": "python",
   "nbconvert_exporter": "python",
   "pygments_lexer": "ipython3",
   "version": "3.9.12"
  },
  "orig_nbformat": 4,
  "vscode": {
   "interpreter": {
    "hash": "19d1d53a962d236aa061289c2ac16dc8e6d9648c89fe79f459ae9a3493bc67b4"
   }
  }
 },
 "nbformat": 4,
 "nbformat_minor": 2
}
